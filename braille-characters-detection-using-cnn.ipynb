{
 "cells": [
  {
   "cell_type": "markdown",
   "id": "391fbe6f",
   "metadata": {
    "papermill": {
     "duration": 0.024309,
     "end_time": "2021-08-27T19:49:42.849745",
     "exception": false,
     "start_time": "2021-08-27T19:49:42.825436",
     "status": "completed"
    },
    "tags": []
   },
   "source": [
    "# Getting started:"
   ]
  },
  {
   "cell_type": "markdown",
   "id": "791e70d0",
   "metadata": {
    "papermill": {
     "duration": 0.022706,
     "end_time": "2021-08-27T19:49:42.896468",
     "exception": false,
     "start_time": "2021-08-27T19:49:42.873762",
     "status": "completed"
    },
    "tags": []
   },
   "source": [
    "# Importing Libraries:"
   ]
  },
  {
   "cell_type": "code",
   "execution_count": 1,
   "id": "86bc23d9",
   "metadata": {
    "execution": {
     "iopub.execute_input": "2021-08-27T19:49:42.946892Z",
     "iopub.status.busy": "2021-08-27T19:49:42.945720Z",
     "iopub.status.idle": "2021-08-27T19:49:42.956735Z",
     "shell.execute_reply": "2021-08-27T19:49:42.956098Z",
     "shell.execute_reply.started": "2021-08-27T19:45:55.206127Z"
    },
    "papermill": {
     "duration": 0.037506,
     "end_time": "2021-08-27T19:49:42.956936",
     "exception": false,
     "start_time": "2021-08-27T19:49:42.919430",
     "status": "completed"
    },
    "tags": []
   },
   "outputs": [],
   "source": [
    "import numpy as np\n",
    "import pandas as pd\n",
    "\n",
    "import os\n",
    "#for dirname, _, filenames in os.walk('/kaggle/input'):\n",
    "    #for filename in filenames:\n",
    "    #    print(os.path.join(dirname, filename))"
   ]
  },
  {
   "cell_type": "code",
   "execution_count": 2,
   "id": "c33fac57",
   "metadata": {
    "execution": {
     "iopub.execute_input": "2021-08-27T19:49:43.009440Z",
     "iopub.status.busy": "2021-08-27T19:49:43.008766Z",
     "iopub.status.idle": "2021-08-27T19:49:49.877851Z",
     "shell.execute_reply": "2021-08-27T19:49:49.877301Z",
     "shell.execute_reply.started": "2021-08-27T19:45:55.213344Z"
    },
    "papermill": {
     "duration": 6.89769,
     "end_time": "2021-08-27T19:49:49.878006",
     "exception": false,
     "start_time": "2021-08-27T19:49:42.980316",
     "status": "completed"
    },
    "tags": []
   },
   "outputs": [],
   "source": [
    "import matplotlib.pyplot as plt\n",
    "import seaborn as sns\n",
    "import tensorflow as tf\n",
    "from tensorflow import keras\n",
    "from pathlib import Path\n",
    "from sklearn.preprocessing import LabelEncoder\n",
    "import PIL\n",
    "import cv2"
   ]
  },
  {
   "cell_type": "code",
   "execution_count": 3,
   "id": "1ab32b9c",
   "metadata": {
    "execution": {
     "iopub.execute_input": "2021-08-27T19:49:49.931613Z",
     "iopub.status.busy": "2021-08-27T19:49:49.930964Z",
     "iopub.status.idle": "2021-08-27T19:49:49.934044Z",
     "shell.execute_reply": "2021-08-27T19:49:49.934524Z",
     "shell.execute_reply.started": "2021-08-27T19:45:55.234658Z"
    },
    "papermill": {
     "duration": 0.033382,
     "end_time": "2021-08-27T19:49:49.934688",
     "exception": false,
     "start_time": "2021-08-27T19:49:49.901306",
     "status": "completed"
    },
    "tags": []
   },
   "outputs": [
    {
     "data": {
      "text/plain": [
       "'2.4.1'"
      ]
     },
     "execution_count": 3,
     "metadata": {},
     "output_type": "execute_result"
    }
   ],
   "source": [
    "#checking tensorflow version\n",
    "tf.__version__"
   ]
  },
  {
   "cell_type": "markdown",
   "id": "54ab2af2",
   "metadata": {
    "papermill": {
     "duration": 0.023668,
     "end_time": "2021-08-27T19:49:49.982419",
     "exception": false,
     "start_time": "2021-08-27T19:49:49.958751",
     "status": "completed"
    },
    "tags": []
   },
   "source": [
    "# Preprocessing:"
   ]
  },
  {
   "cell_type": "code",
   "execution_count": 4,
   "id": "4b3f7b1e",
   "metadata": {
    "execution": {
     "iopub.execute_input": "2021-08-27T19:49:50.033210Z",
     "iopub.status.busy": "2021-08-27T19:49:50.032572Z",
     "iopub.status.idle": "2021-08-27T19:49:50.036268Z",
     "shell.execute_reply": "2021-08-27T19:49:50.036760Z",
     "shell.execute_reply.started": "2021-08-27T19:45:55.247436Z"
    },
    "papermill": {
     "duration": 0.030871,
     "end_time": "2021-08-27T19:49:50.036948",
     "exception": false,
     "start_time": "2021-08-27T19:49:50.006077",
     "status": "completed"
    },
    "tags": []
   },
   "outputs": [],
   "source": [
    "image_dir = Path('../input/braille-character-dataset/Braille Dataset/Braille Dataset')"
   ]
  },
  {
   "cell_type": "code",
   "execution_count": 5,
   "id": "f9fe17e9",
   "metadata": {
    "execution": {
     "iopub.execute_input": "2021-08-27T19:49:50.089768Z",
     "iopub.status.busy": "2021-08-27T19:49:50.089033Z",
     "iopub.status.idle": "2021-08-27T19:49:50.190308Z",
     "shell.execute_reply": "2021-08-27T19:49:50.189711Z",
     "shell.execute_reply.started": "2021-08-27T19:45:55.256992Z"
    },
    "papermill": {
     "duration": 0.130035,
     "end_time": "2021-08-27T19:49:50.190501",
     "exception": false,
     "start_time": "2021-08-27T19:49:50.060466",
     "status": "completed"
    },
    "tags": []
   },
   "outputs": [],
   "source": [
    "#how many images\n",
    "dir_list = list(image_dir.glob('*.jpg'))"
   ]
  },
  {
   "cell_type": "code",
   "execution_count": 6,
   "id": "4715dd22",
   "metadata": {
    "execution": {
     "iopub.execute_input": "2021-08-27T19:49:50.242743Z",
     "iopub.status.busy": "2021-08-27T19:49:50.242121Z",
     "iopub.status.idle": "2021-08-27T19:49:50.245343Z",
     "shell.execute_reply": "2021-08-27T19:49:50.245849Z",
     "shell.execute_reply.started": "2021-08-27T19:45:55.278886Z"
    },
    "papermill": {
     "duration": 0.031972,
     "end_time": "2021-08-27T19:49:50.246006",
     "exception": false,
     "start_time": "2021-08-27T19:49:50.214034",
     "status": "completed"
    },
    "tags": []
   },
   "outputs": [
    {
     "data": {
      "text/plain": [
       "1560"
      ]
     },
     "execution_count": 6,
     "metadata": {},
     "output_type": "execute_result"
    }
   ],
   "source": [
    "image_count = len(dir_list)\n",
    "image_count"
   ]
  },
  {
   "cell_type": "code",
   "execution_count": 7,
   "id": "6d8095b6",
   "metadata": {
    "execution": {
     "iopub.execute_input": "2021-08-27T19:49:50.296455Z",
     "iopub.status.busy": "2021-08-27T19:49:50.295840Z",
     "iopub.status.idle": "2021-08-27T19:49:50.304646Z",
     "shell.execute_reply": "2021-08-27T19:49:50.305180Z",
     "shell.execute_reply.started": "2021-08-27T19:45:55.287500Z"
    },
    "papermill": {
     "duration": 0.035751,
     "end_time": "2021-08-27T19:49:50.305348",
     "exception": false,
     "start_time": "2021-08-27T19:49:50.269597",
     "status": "completed"
    },
    "tags": []
   },
   "outputs": [],
   "source": [
    "#generates a list with the filenames\n",
    "name_list = []\n",
    "for i in dir_list:\n",
    "    name_list.append(os.path.basename(i)[0])"
   ]
  },
  {
   "cell_type": "code",
   "execution_count": 8,
   "id": "2122f652",
   "metadata": {
    "execution": {
     "iopub.execute_input": "2021-08-27T19:49:50.357375Z",
     "iopub.status.busy": "2021-08-27T19:49:50.356741Z",
     "iopub.status.idle": "2021-08-27T19:49:54.820117Z",
     "shell.execute_reply": "2021-08-27T19:49:54.820694Z",
     "shell.execute_reply.started": "2021-08-27T19:45:55.302105Z"
    },
    "papermill": {
     "duration": 4.490417,
     "end_time": "2021-08-27T19:49:54.820896",
     "exception": false,
     "start_time": "2021-08-27T19:49:50.330479",
     "status": "completed"
    },
    "tags": []
   },
   "outputs": [],
   "source": [
    "#opens images and puts into a list\n",
    "images = []\n",
    "for dir in dir_list:\n",
    "    I = cv2.imread(str(dir))\n",
    "    images.append(I)"
   ]
  },
  {
   "cell_type": "code",
   "execution_count": 9,
   "id": "45f7cfe1",
   "metadata": {
    "execution": {
     "iopub.execute_input": "2021-08-27T19:49:54.871867Z",
     "iopub.status.busy": "2021-08-27T19:49:54.871255Z",
     "iopub.status.idle": "2021-08-27T19:49:54.879394Z",
     "shell.execute_reply": "2021-08-27T19:49:54.879875Z",
     "shell.execute_reply.started": "2021-08-27T19:45:56.595966Z"
    },
    "papermill": {
     "duration": 0.034919,
     "end_time": "2021-08-27T19:49:54.880046",
     "exception": false,
     "start_time": "2021-08-27T19:49:54.845127",
     "status": "completed"
    },
    "tags": []
   },
   "outputs": [],
   "source": [
    "#turn both lists in numpy arrays\n",
    "images_list = np.array(images)\n",
    "name_list = np.array(name_list).T"
   ]
  },
  {
   "cell_type": "code",
   "execution_count": 10,
   "id": "260938b1",
   "metadata": {
    "execution": {
     "iopub.execute_input": "2021-08-27T19:49:54.931397Z",
     "iopub.status.busy": "2021-08-27T19:49:54.930735Z",
     "iopub.status.idle": "2021-08-27T19:49:54.950297Z",
     "shell.execute_reply": "2021-08-27T19:49:54.950853Z",
     "shell.execute_reply.started": "2021-08-27T19:45:56.606000Z"
    },
    "papermill": {
     "duration": 0.046844,
     "end_time": "2021-08-27T19:49:54.951031",
     "exception": false,
     "start_time": "2021-08-27T19:49:54.904187",
     "status": "completed"
    },
    "tags": []
   },
   "outputs": [],
   "source": [
    "#encodes name_list and normalizes image_list\n",
    "le = LabelEncoder()\n",
    "name_list = le.fit_transform(name_list)\n",
    "images_list = images_list / 255.0"
   ]
  },
  {
   "cell_type": "code",
   "execution_count": 11,
   "id": "13f077b9",
   "metadata": {
    "execution": {
     "iopub.execute_input": "2021-08-27T19:49:55.002643Z",
     "iopub.status.busy": "2021-08-27T19:49:55.001970Z",
     "iopub.status.idle": "2021-08-27T19:49:55.006814Z",
     "shell.execute_reply": "2021-08-27T19:49:55.007367Z",
     "shell.execute_reply.started": "2021-08-27T19:45:56.620343Z"
    },
    "papermill": {
     "duration": 0.032344,
     "end_time": "2021-08-27T19:49:55.007550",
     "exception": false,
     "start_time": "2021-08-27T19:49:54.975206",
     "status": "completed"
    },
    "tags": []
   },
   "outputs": [
    {
     "data": {
      "text/plain": [
       "(1560, 28, 28, 3)"
      ]
     },
     "execution_count": 11,
     "metadata": {},
     "output_type": "execute_result"
    }
   ],
   "source": [
    "images_list.shape"
   ]
  },
  {
   "cell_type": "code",
   "execution_count": 12,
   "id": "c7acddb3",
   "metadata": {
    "execution": {
     "iopub.execute_input": "2021-08-27T19:49:55.059210Z",
     "iopub.status.busy": "2021-08-27T19:49:55.058564Z",
     "iopub.status.idle": "2021-08-27T19:49:55.233601Z",
     "shell.execute_reply": "2021-08-27T19:49:55.234081Z",
     "shell.execute_reply.started": "2021-08-27T19:45:56.628734Z"
    },
    "papermill": {
     "duration": 0.20229,
     "end_time": "2021-08-27T19:49:55.234268",
     "exception": false,
     "start_time": "2021-08-27T19:49:55.031978",
     "status": "completed"
    },
    "tags": []
   },
   "outputs": [
    {
     "data": {
      "text/plain": [
       "<matplotlib.image.AxesImage at 0x7f29a82afa50>"
      ]
     },
     "execution_count": 12,
     "metadata": {},
     "output_type": "execute_result"
    },
    {
     "data": {
      "image/png": "[encoded data removed]",
      "text/plain": [
       "<Figure size 432x288 with 1 Axes>"
      ]
     },
     "metadata": {
      "needs_background": "light"
     },
     "output_type": "display_data"
    }
   ],
   "source": [
    "plt.imshow(images_list[0])"
   ]
  },
  {
   "cell_type": "code",
   "execution_count": 13,
   "id": "7c8cdae7",
   "metadata": {
    "execution": {
     "iopub.execute_input": "2021-08-27T19:49:55.290360Z",
     "iopub.status.busy": "2021-08-27T19:49:55.289394Z",
     "iopub.status.idle": "2021-08-27T19:49:55.293609Z",
     "shell.execute_reply": "2021-08-27T19:49:55.293108Z",
     "shell.execute_reply.started": "2021-08-27T19:45:56.782884Z"
    },
    "papermill": {
     "duration": 0.034092,
     "end_time": "2021-08-27T19:49:55.293734",
     "exception": false,
     "start_time": "2021-08-27T19:49:55.259642",
     "status": "completed"
    },
    "tags": []
   },
   "outputs": [
    {
     "data": {
      "text/plain": [
       "(1560, 28, 28, 3)"
      ]
     },
     "execution_count": 13,
     "metadata": {},
     "output_type": "execute_result"
    }
   ],
   "source": [
    "images_list.shape"
   ]
  },
  {
   "cell_type": "code",
   "execution_count": 14,
   "id": "e8153720",
   "metadata": {
    "execution": {
     "iopub.execute_input": "2021-08-27T19:49:55.350112Z",
     "iopub.status.busy": "2021-08-27T19:49:55.349146Z",
     "iopub.status.idle": "2021-08-27T19:49:55.353463Z",
     "shell.execute_reply": "2021-08-27T19:49:55.352836Z",
     "shell.execute_reply.started": "2021-08-27T19:45:56.789680Z"
    },
    "papermill": {
     "duration": 0.034326,
     "end_time": "2021-08-27T19:49:55.353593",
     "exception": false,
     "start_time": "2021-08-27T19:49:55.319267",
     "status": "completed"
    },
    "tags": []
   },
   "outputs": [
    {
     "data": {
      "text/plain": [
       "(1560,)"
      ]
     },
     "execution_count": 14,
     "metadata": {},
     "output_type": "execute_result"
    }
   ],
   "source": [
    "name_list.shape"
   ]
  },
  {
   "cell_type": "markdown",
   "id": "2c2ec6a0",
   "metadata": {
    "papermill": {
     "duration": 0.025419,
     "end_time": "2021-08-27T19:49:55.404848",
     "exception": false,
     "start_time": "2021-08-27T19:49:55.379429",
     "status": "completed"
    },
    "tags": []
   },
   "source": [
    "# Splitting in train and test data:"
   ]
  },
  {
   "cell_type": "code",
   "execution_count": 15,
   "id": "5f637fda",
   "metadata": {
    "execution": {
     "iopub.execute_input": "2021-08-27T19:49:55.460750Z",
     "iopub.status.busy": "2021-08-27T19:49:55.460014Z",
     "iopub.status.idle": "2021-08-27T19:49:55.519470Z",
     "shell.execute_reply": "2021-08-27T19:49:55.518804Z",
     "shell.execute_reply.started": "2021-08-27T19:45:56.802178Z"
    },
    "papermill": {
     "duration": 0.089138,
     "end_time": "2021-08-27T19:49:55.519610",
     "exception": false,
     "start_time": "2021-08-27T19:49:55.430472",
     "status": "completed"
    },
    "tags": []
   },
   "outputs": [],
   "source": [
    "from sklearn.model_selection import train_test_split"
   ]
  },
  {
   "cell_type": "code",
   "execution_count": 16,
   "id": "ec70f5ee",
   "metadata": {
    "execution": {
     "iopub.execute_input": "2021-08-27T19:49:55.577912Z",
     "iopub.status.busy": "2021-08-27T19:49:55.576554Z",
     "iopub.status.idle": "2021-08-27T19:49:55.593479Z",
     "shell.execute_reply": "2021-08-27T19:49:55.592952Z",
     "shell.execute_reply.started": "2021-08-27T19:45:56.812311Z"
    },
    "papermill": {
     "duration": 0.048473,
     "end_time": "2021-08-27T19:49:55.593628",
     "exception": false,
     "start_time": "2021-08-27T19:49:55.545155",
     "status": "completed"
    },
    "tags": []
   },
   "outputs": [],
   "source": [
    "X_train, X_test, y_train, y_test = train_test_split(images_list, name_list, test_size=0.2, random_state=42)"
   ]
  },
  {
   "cell_type": "markdown",
   "id": "62f97598",
   "metadata": {
    "papermill": {
     "duration": 0.026214,
     "end_time": "2021-08-27T19:49:55.645527",
     "exception": false,
     "start_time": "2021-08-27T19:49:55.619313",
     "status": "completed"
    },
    "tags": []
   },
   "source": [
    "# Creating model:"
   ]
  },
  {
   "cell_type": "code",
   "execution_count": 17,
   "id": "370dcb1f",
   "metadata": {
    "execution": {
     "iopub.execute_input": "2021-08-27T19:49:55.707189Z",
     "iopub.status.busy": "2021-08-27T19:49:55.706180Z",
     "iopub.status.idle": "2021-08-27T19:49:55.950543Z",
     "shell.execute_reply": "2021-08-27T19:49:55.950028Z",
     "shell.execute_reply.started": "2021-08-27T19:45:56.830690Z"
    },
    "papermill": {
     "duration": 0.278594,
     "end_time": "2021-08-27T19:49:55.950696",
     "exception": false,
     "start_time": "2021-08-27T19:49:55.672102",
     "status": "completed"
    },
    "tags": []
   },
   "outputs": [],
   "source": [
    "model = keras.Sequential([\n",
    "    keras.layers.Conv2D(filters=64, kernel_size=(5, 5), padding='same', activation='relu'),\n",
    "    keras.layers.Conv2D(filters=64, kernel_size=(3, 3), padding='same', activation='relu'),\n",
    "    keras.layers.MaxPooling2D(),\n",
    "    keras.layers.Conv2D(filters=64, kernel_size=(3, 3), padding='same', activation='relu'),\n",
    "    keras.layers.MaxPooling2D(),\n",
    "    keras.layers.Conv2D(filters=64, kernel_size=(3, 3), padding='same', activation='relu'),\n",
    "    keras.layers.MaxPooling2D(),\n",
    "    keras.layers.Flatten(),\n",
    "    keras.layers.Dense(units=576, activation=\"relu\"),\n",
    "    keras.layers.Dense(units=288, activation=\"relu\"),\n",
    "    keras.layers.Dense(units=26, activation=\"softmax\") #output layer\n",
    "])"
   ]
  },
  {
   "cell_type": "code",
   "execution_count": 18,
   "id": "036c1ce1",
   "metadata": {
    "execution": {
     "iopub.execute_input": "2021-08-27T19:49:56.015991Z",
     "iopub.status.busy": "2021-08-27T19:49:56.015299Z",
     "iopub.status.idle": "2021-08-27T19:49:56.028051Z",
     "shell.execute_reply": "2021-08-27T19:49:56.027461Z",
     "shell.execute_reply.started": "2021-08-27T19:45:56.856406Z"
    },
    "papermill": {
     "duration": 0.051415,
     "end_time": "2021-08-27T19:49:56.028189",
     "exception": false,
     "start_time": "2021-08-27T19:49:55.976774",
     "status": "completed"
    },
    "tags": []
   },
   "outputs": [],
   "source": [
    "model.compile(optimizer=\"Adam\", loss=\"SparseCategoricalCrossentropy\", metrics=[\"sparse_categorical_accuracy\"])"
   ]
  },
  {
   "cell_type": "code",
   "execution_count": 19,
   "id": "d4d6d2a5",
   "metadata": {
    "execution": {
     "iopub.execute_input": "2021-08-27T19:49:56.085042Z",
     "iopub.status.busy": "2021-08-27T19:49:56.084367Z",
     "iopub.status.idle": "2021-08-27T19:49:56.147958Z",
     "shell.execute_reply": "2021-08-27T19:49:56.147379Z",
     "shell.execute_reply.started": "2021-08-27T19:45:56.877955Z"
    },
    "papermill": {
     "duration": 0.094099,
     "end_time": "2021-08-27T19:49:56.148137",
     "exception": false,
     "start_time": "2021-08-27T19:49:56.054038",
     "status": "completed"
    },
    "tags": []
   },
   "outputs": [],
   "source": [
    "from keras.callbacks import EarlyStopping"
   ]
  },
  {
   "cell_type": "code",
   "execution_count": 20,
   "id": "bf8dc6ec",
   "metadata": {
    "execution": {
     "iopub.execute_input": "2021-08-27T19:49:56.207239Z",
     "iopub.status.busy": "2021-08-27T19:49:56.206541Z",
     "iopub.status.idle": "2021-08-27T19:53:12.003766Z",
     "shell.execute_reply": "2021-08-27T19:53:12.003106Z",
     "shell.execute_reply.started": "2021-08-27T19:45:56.885840Z"
    },
    "papermill": {
     "duration": 195.829572,
     "end_time": "2021-08-27T19:53:12.003951",
     "exception": false,
     "start_time": "2021-08-27T19:49:56.174379",
     "status": "completed"
    },
    "tags": []
   },
   "outputs": [
    {
     "name": "stdout",
     "output_type": "stream",
     "text": [
      "Epoch 1/1000\n",
      "28/28 [==============================] - 5s 157ms/step - loss: 3.2689 - sparse_categorical_accuracy: 0.0260 - val_loss: 3.2622 - val_sparse_categorical_accuracy: 0.0160\n",
      "Epoch 2/1000\n",
      "28/28 [==============================] - 4s 133ms/step - loss: 3.2485 - sparse_categorical_accuracy: 0.0599 - val_loss: 3.1686 - val_sparse_categorical_accuracy: 0.0373\n",
      "Epoch 3/1000\n",
      "28/28 [==============================] - 4s 134ms/step - loss: 2.5433 - sparse_categorical_accuracy: 0.2928 - val_loss: 1.7572 - val_sparse_categorical_accuracy: 0.4267\n",
      "Epoch 4/1000\n",
      "28/28 [==============================] - 4s 131ms/step - loss: 1.3007 - sparse_categorical_accuracy: 0.6124 - val_loss: 1.2926 - val_sparse_categorical_accuracy: 0.6667\n",
      "Epoch 5/1000\n",
      "28/28 [==============================] - 4s 132ms/step - loss: 0.7521 - sparse_categorical_accuracy: 0.7658 - val_loss: 0.8945 - val_sparse_categorical_accuracy: 0.7467\n",
      "Epoch 6/1000\n",
      "28/28 [==============================] - 4s 133ms/step - loss: 0.4671 - sparse_categorical_accuracy: 0.8688 - val_loss: 0.8011 - val_sparse_categorical_accuracy: 0.7947\n",
      "Epoch 7/1000\n",
      "28/28 [==============================] - 4s 143ms/step - loss: 0.2737 - sparse_categorical_accuracy: 0.9169 - val_loss: 0.7395 - val_sparse_categorical_accuracy: 0.8187\n",
      "Epoch 8/1000\n",
      "28/28 [==============================] - 4s 134ms/step - loss: 0.2016 - sparse_categorical_accuracy: 0.9479 - val_loss: 0.8361 - val_sparse_categorical_accuracy: 0.8240\n",
      "Epoch 9/1000\n",
      "28/28 [==============================] - 4s 134ms/step - loss: 0.1383 - sparse_categorical_accuracy: 0.9584 - val_loss: 0.7945 - val_sparse_categorical_accuracy: 0.8480\n",
      "Epoch 10/1000\n",
      "28/28 [==============================] - 4s 132ms/step - loss: 0.0633 - sparse_categorical_accuracy: 0.9788 - val_loss: 0.6796 - val_sparse_categorical_accuracy: 0.8373\n",
      "Epoch 11/1000\n",
      "28/28 [==============================] - 4s 132ms/step - loss: 0.0663 - sparse_categorical_accuracy: 0.9847 - val_loss: 0.6941 - val_sparse_categorical_accuracy: 0.8640\n",
      "Epoch 12/1000\n",
      "28/28 [==============================] - 4s 133ms/step - loss: 0.0461 - sparse_categorical_accuracy: 0.9850 - val_loss: 0.6677 - val_sparse_categorical_accuracy: 0.8640\n",
      "Epoch 13/1000\n",
      "28/28 [==============================] - 4s 132ms/step - loss: 0.0352 - sparse_categorical_accuracy: 0.9936 - val_loss: 0.8880 - val_sparse_categorical_accuracy: 0.8453\n",
      "Epoch 14/1000\n",
      "28/28 [==============================] - 4s 131ms/step - loss: 0.0611 - sparse_categorical_accuracy: 0.9859 - val_loss: 0.6271 - val_sparse_categorical_accuracy: 0.8827\n",
      "Epoch 15/1000\n",
      "28/28 [==============================] - 4s 135ms/step - loss: 0.0373 - sparse_categorical_accuracy: 0.9864 - val_loss: 0.6068 - val_sparse_categorical_accuracy: 0.8640\n",
      "Epoch 16/1000\n",
      "28/28 [==============================] - 4s 142ms/step - loss: 0.0177 - sparse_categorical_accuracy: 0.9959 - val_loss: 0.5566 - val_sparse_categorical_accuracy: 0.8747\n",
      "Epoch 17/1000\n",
      "28/28 [==============================] - 4s 131ms/step - loss: 0.0378 - sparse_categorical_accuracy: 0.9913 - val_loss: 0.6321 - val_sparse_categorical_accuracy: 0.8907\n",
      "Epoch 18/1000\n",
      "28/28 [==============================] - 4s 134ms/step - loss: 0.0316 - sparse_categorical_accuracy: 0.9916 - val_loss: 0.7382 - val_sparse_categorical_accuracy: 0.8640\n",
      "Epoch 19/1000\n",
      "28/28 [==============================] - 4s 131ms/step - loss: 0.0259 - sparse_categorical_accuracy: 0.9928 - val_loss: 0.7656 - val_sparse_categorical_accuracy: 0.8960\n",
      "Epoch 20/1000\n",
      "28/28 [==============================] - 4s 131ms/step - loss: 0.0818 - sparse_categorical_accuracy: 0.9866 - val_loss: 0.5310 - val_sparse_categorical_accuracy: 0.8667\n",
      "Epoch 21/1000\n",
      "28/28 [==============================] - 4s 133ms/step - loss: 0.0362 - sparse_categorical_accuracy: 0.9922 - val_loss: 0.7372 - val_sparse_categorical_accuracy: 0.8800\n",
      "Epoch 22/1000\n",
      "28/28 [==============================] - 4s 131ms/step - loss: 0.0424 - sparse_categorical_accuracy: 0.9915 - val_loss: 0.8180 - val_sparse_categorical_accuracy: 0.8853\n",
      "Epoch 23/1000\n",
      "28/28 [==============================] - 4s 131ms/step - loss: 0.0523 - sparse_categorical_accuracy: 0.9874 - val_loss: 0.9026 - val_sparse_categorical_accuracy: 0.8720\n",
      "Epoch 24/1000\n",
      "28/28 [==============================] - 4s 145ms/step - loss: 0.0974 - sparse_categorical_accuracy: 0.9860 - val_loss: 0.6175 - val_sparse_categorical_accuracy: 0.8827\n",
      "Epoch 25/1000\n",
      "28/28 [==============================] - 4s 132ms/step - loss: 0.0061 - sparse_categorical_accuracy: 0.9986 - val_loss: 0.8160 - val_sparse_categorical_accuracy: 0.8640\n",
      "Epoch 26/1000\n",
      "28/28 [==============================] - 4s 133ms/step - loss: 0.0132 - sparse_categorical_accuracy: 0.9947 - val_loss: 0.8245 - val_sparse_categorical_accuracy: 0.8853\n",
      "Epoch 27/1000\n",
      "28/28 [==============================] - 4s 131ms/step - loss: 0.0467 - sparse_categorical_accuracy: 0.9910 - val_loss: 0.5664 - val_sparse_categorical_accuracy: 0.8827\n",
      "Epoch 28/1000\n",
      "28/28 [==============================] - 4s 130ms/step - loss: 0.0292 - sparse_categorical_accuracy: 0.9917 - val_loss: 0.4137 - val_sparse_categorical_accuracy: 0.9253\n",
      "Epoch 29/1000\n",
      "28/28 [==============================] - 4s 134ms/step - loss: 0.0110 - sparse_categorical_accuracy: 0.9984 - val_loss: 0.5908 - val_sparse_categorical_accuracy: 0.8640\n",
      "Epoch 30/1000\n",
      "28/28 [==============================] - 4s 132ms/step - loss: 0.0181 - sparse_categorical_accuracy: 0.9966 - val_loss: 0.6136 - val_sparse_categorical_accuracy: 0.8907\n",
      "Epoch 31/1000\n",
      "28/28 [==============================] - 4s 132ms/step - loss: 0.0133 - sparse_categorical_accuracy: 0.9969 - val_loss: 0.5021 - val_sparse_categorical_accuracy: 0.9120\n",
      "Epoch 32/1000\n",
      "28/28 [==============================] - 4s 132ms/step - loss: 0.0051 - sparse_categorical_accuracy: 0.9992 - val_loss: 0.3934 - val_sparse_categorical_accuracy: 0.9120\n",
      "Epoch 33/1000\n",
      "28/28 [==============================] - 4s 146ms/step - loss: 9.1909e-04 - sparse_categorical_accuracy: 1.0000 - val_loss: 0.4420 - val_sparse_categorical_accuracy: 0.9173\n",
      "Epoch 34/1000\n",
      "28/28 [==============================] - 4s 131ms/step - loss: 2.0577e-04 - sparse_categorical_accuracy: 1.0000 - val_loss: 0.5964 - val_sparse_categorical_accuracy: 0.9147\n",
      "Epoch 35/1000\n",
      "28/28 [==============================] - 4s 133ms/step - loss: 1.1373e-04 - sparse_categorical_accuracy: 1.0000 - val_loss: 0.5357 - val_sparse_categorical_accuracy: 0.9173\n",
      "Epoch 36/1000\n",
      "28/28 [==============================] - 4s 131ms/step - loss: 5.2806e-05 - sparse_categorical_accuracy: 1.0000 - val_loss: 0.6149 - val_sparse_categorical_accuracy: 0.9173\n",
      "Epoch 37/1000\n",
      "28/28 [==============================] - 4s 133ms/step - loss: 2.7042e-05 - sparse_categorical_accuracy: 1.0000 - val_loss: 0.6350 - val_sparse_categorical_accuracy: 0.9200\n",
      "Epoch 38/1000\n",
      "28/28 [==============================] - 4s 135ms/step - loss: 3.5030e-05 - sparse_categorical_accuracy: 1.0000 - val_loss: 0.6301 - val_sparse_categorical_accuracy: 0.9173\n",
      "Epoch 39/1000\n",
      "28/28 [==============================] - 4s 132ms/step - loss: 2.4277e-05 - sparse_categorical_accuracy: 1.0000 - val_loss: 0.6438 - val_sparse_categorical_accuracy: 0.9173\n",
      "Epoch 40/1000\n",
      "28/28 [==============================] - 4s 130ms/step - loss: 1.7263e-05 - sparse_categorical_accuracy: 1.0000 - val_loss: 0.6525 - val_sparse_categorical_accuracy: 0.9173\n",
      "Epoch 41/1000\n",
      "28/28 [==============================] - 4s 139ms/step - loss: 1.5920e-05 - sparse_categorical_accuracy: 1.0000 - val_loss: 0.6606 - val_sparse_categorical_accuracy: 0.9173\n",
      "Epoch 42/1000\n",
      "28/28 [==============================] - 4s 143ms/step - loss: 1.6815e-05 - sparse_categorical_accuracy: 1.0000 - val_loss: 0.6644 - val_sparse_categorical_accuracy: 0.9173\n",
      "Epoch 43/1000\n",
      "28/28 [==============================] - 4s 131ms/step - loss: 1.5447e-05 - sparse_categorical_accuracy: 1.0000 - val_loss: 0.6735 - val_sparse_categorical_accuracy: 0.9147\n",
      "Epoch 44/1000\n",
      "28/28 [==============================] - 4s 132ms/step - loss: 1.1788e-05 - sparse_categorical_accuracy: 1.0000 - val_loss: 0.6744 - val_sparse_categorical_accuracy: 0.9147\n",
      "Epoch 45/1000\n",
      "28/28 [==============================] - 4s 131ms/step - loss: 9.8830e-06 - sparse_categorical_accuracy: 1.0000 - val_loss: 0.6852 - val_sparse_categorical_accuracy: 0.9147\n",
      "Epoch 46/1000\n",
      "28/28 [==============================] - 4s 131ms/step - loss: 1.4317e-05 - sparse_categorical_accuracy: 1.0000 - val_loss: 0.6874 - val_sparse_categorical_accuracy: 0.9147\n",
      "Epoch 47/1000\n",
      "28/28 [==============================] - 4s 133ms/step - loss: 8.6728e-06 - sparse_categorical_accuracy: 1.0000 - val_loss: 0.6933 - val_sparse_categorical_accuracy: 0.9147\n",
      "Epoch 48/1000\n",
      "28/28 [==============================] - 4s 131ms/step - loss: 1.0011e-05 - sparse_categorical_accuracy: 1.0000 - val_loss: 0.6999 - val_sparse_categorical_accuracy: 0.9147\n",
      "Epoch 49/1000\n",
      "28/28 [==============================] - 4s 137ms/step - loss: 9.2252e-06 - sparse_categorical_accuracy: 1.0000 - val_loss: 0.7026 - val_sparse_categorical_accuracy: 0.9147\n",
      "Epoch 50/1000\n",
      "28/28 [==============================] - 4s 133ms/step - loss: 5.8481e-06 - sparse_categorical_accuracy: 1.0000 - val_loss: 0.7084 - val_sparse_categorical_accuracy: 0.9147\n",
      "Epoch 51/1000\n",
      "28/28 [==============================] - 4s 143ms/step - loss: 8.1094e-06 - sparse_categorical_accuracy: 1.0000 - val_loss: 0.7112 - val_sparse_categorical_accuracy: 0.9147\n",
      "Epoch 52/1000\n",
      "28/28 [==============================] - 4s 132ms/step - loss: 8.0905e-06 - sparse_categorical_accuracy: 1.0000 - val_loss: 0.7133 - val_sparse_categorical_accuracy: 0.9147\n"
     ]
    }
   ],
   "source": [
    "es1 = EarlyStopping(patience=20, monitor=\"val_acc\", mode=\"auto\")\n",
    "es2 = EarlyStopping(patience=20, monitor=\"val_loss\", mode=\"auto\")\n",
    "\n",
    "#The neural network will stop fitting if it gets 20 epochs without converge\n",
    "\n",
    "history = model.fit(x=X_train,\n",
    "                    y=y_train,\n",
    "                    epochs=1000,\n",
    "                    validation_split=0.3,\n",
    "                    callbacks=[es1, es2])"
   ]
  },
  {
   "cell_type": "code",
   "execution_count": 21,
   "id": "0f9dc8a9",
   "metadata": {
    "execution": {
     "iopub.execute_input": "2021-08-27T19:53:12.930513Z",
     "iopub.status.busy": "2021-08-27T19:53:12.929560Z",
     "iopub.status.idle": "2021-08-27T19:53:12.940482Z",
     "shell.execute_reply": "2021-08-27T19:53:12.939521Z",
     "shell.execute_reply.started": "2021-08-27T19:48:16.752638Z"
    },
    "papermill": {
     "duration": 0.477723,
     "end_time": "2021-08-27T19:53:12.940680",
     "exception": false,
     "start_time": "2021-08-27T19:53:12.462957",
     "status": "completed"
    },
    "tags": []
   },
   "outputs": [
    {
     "name": "stdout",
     "output_type": "stream",
     "text": [
      "Model: \"sequential\"\n",
      "_________________________________________________________________\n",
      "Layer (type)                 Output Shape              Param #   \n",
      "=================================================================\n",
      "conv2d (Conv2D)              (None, 28, 28, 64)        4864      \n",
      "_________________________________________________________________\n",
      "conv2d_1 (Conv2D)            (None, 28, 28, 64)        36928     \n",
      "_________________________________________________________________\n",
      "max_pooling2d (MaxPooling2D) (None, 14, 14, 64)        0         \n",
      "_________________________________________________________________\n",
      "conv2d_2 (Conv2D)            (None, 14, 14, 64)        36928     \n",
      "_________________________________________________________________\n",
      "max_pooling2d_1 (MaxPooling2 (None, 7, 7, 64)          0         \n",
      "_________________________________________________________________\n",
      "conv2d_3 (Conv2D)            (None, 7, 7, 64)          36928     \n",
      "_________________________________________________________________\n",
      "max_pooling2d_2 (MaxPooling2 (None, 3, 3, 64)          0         \n",
      "_________________________________________________________________\n",
      "flatten (Flatten)            (None, 576)               0         \n",
      "_________________________________________________________________\n",
      "dense (Dense)                (None, 576)               332352    \n",
      "_________________________________________________________________\n",
      "dense_1 (Dense)              (None, 288)               166176    \n",
      "_________________________________________________________________\n",
      "dense_2 (Dense)              (None, 26)                7514      \n",
      "=================================================================\n",
      "Total params: 621,690\n",
      "Trainable params: 621,690\n",
      "Non-trainable params: 0\n",
      "_________________________________________________________________\n"
     ]
    }
   ],
   "source": [
    "model.summary()"
   ]
  },
  {
   "cell_type": "markdown",
   "id": "cf1a9c7f",
   "metadata": {
    "papermill": {
     "duration": 0.487107,
     "end_time": "2021-08-27T19:53:13.885805",
     "exception": false,
     "start_time": "2021-08-27T19:53:13.398698",
     "status": "completed"
    },
    "tags": []
   },
   "source": [
    "# Evaluating model:"
   ]
  },
  {
   "cell_type": "code",
   "execution_count": 22,
   "id": "4f3526d4",
   "metadata": {
    "execution": {
     "iopub.execute_input": "2021-08-27T19:53:14.814382Z",
     "iopub.status.busy": "2021-08-27T19:53:14.813675Z",
     "iopub.status.idle": "2021-08-27T19:53:14.815440Z",
     "shell.execute_reply": "2021-08-27T19:53:14.815890Z",
     "shell.execute_reply.started": "2021-08-27T19:48:16.768385Z"
    },
    "papermill": {
     "duration": 0.467943,
     "end_time": "2021-08-27T19:53:14.816057",
     "exception": false,
     "start_time": "2021-08-27T19:53:14.348114",
     "status": "completed"
    },
    "tags": []
   },
   "outputs": [],
   "source": [
    "time = np.arange(1, len(history.history['loss'])+1)"
   ]
  },
  {
   "cell_type": "code",
   "execution_count": 23,
   "id": "74d30b95",
   "metadata": {
    "execution": {
     "iopub.execute_input": "2021-08-27T19:53:15.795575Z",
     "iopub.status.busy": "2021-08-27T19:53:15.794930Z",
     "iopub.status.idle": "2021-08-27T19:53:16.063936Z",
     "shell.execute_reply": "2021-08-27T19:53:16.063408Z",
     "shell.execute_reply.started": "2021-08-27T19:48:16.775524Z"
    },
    "papermill": {
     "duration": 0.7354,
     "end_time": "2021-08-27T19:53:16.064095",
     "exception": false,
     "start_time": "2021-08-27T19:53:15.328695",
     "status": "completed"
    },
    "tags": []
   },
   "outputs": [
    {
     "data": {
      "text/plain": [
       "<matplotlib.legend.Legend at 0x7f29807394d0>"
      ]
     },
     "execution_count": 23,
     "metadata": {},
     "output_type": "execute_result"
    },
    {
     "data": {
      "image/png": "[encoded data removed]",
      "text/plain": [
       "<Figure size 432x288 with 1 Axes>"
      ]
     },
     "metadata": {
      "needs_background": "light"
     },
     "output_type": "display_data"
    }
   ],
   "source": [
    "sns.lineplot(data=history.history, x=time, y='loss')\n",
    "sns.lineplot(data=history.history, x=time, y='val_loss')\n",
    "plt.title('Loss fitting history')\n",
    "plt.legend(labels=['Loss', 'Validation loss'])"
   ]
  },
  {
   "cell_type": "code",
   "execution_count": 24,
   "id": "71dbcab4",
   "metadata": {
    "execution": {
     "iopub.execute_input": "2021-08-27T19:53:17.018038Z",
     "iopub.status.busy": "2021-08-27T19:53:17.017353Z",
     "iopub.status.idle": "2021-08-27T19:53:17.223243Z",
     "shell.execute_reply": "2021-08-27T19:53:17.223719Z",
     "shell.execute_reply.started": "2021-08-27T19:48:17.022133Z"
    },
    "papermill": {
     "duration": 0.697495,
     "end_time": "2021-08-27T19:53:17.223900",
     "exception": false,
     "start_time": "2021-08-27T19:53:16.526405",
     "status": "completed"
    },
    "tags": []
   },
   "outputs": [
    {
     "data": {
      "text/plain": [
       "<matplotlib.legend.Legend at 0x7f29a8004110>"
      ]
     },
     "execution_count": 24,
     "metadata": {},
     "output_type": "execute_result"
    },
    {
     "data": {
      "image/png": "[encoded data removed]",
      "text/plain": [
       "<Figure size 432x288 with 1 Axes>"
      ]
     },
     "metadata": {
      "needs_background": "light"
     },
     "output_type": "display_data"
    }
   ],
   "source": [
    "sns.lineplot(data=history.history, x=time, y='val_sparse_categorical_accuracy')\n",
    "sns.lineplot(data=history.history, x=time, y='sparse_categorical_accuracy')\n",
    "plt.title('Accuracy fitting history')\n",
    "plt.legend(labels=['Accuracy', 'Valuation accuracy'])"
   ]
  },
  {
   "cell_type": "code",
   "execution_count": 25,
   "id": "4579cfed",
   "metadata": {
    "execution": {
     "iopub.execute_input": "2021-08-27T19:53:18.157739Z",
     "iopub.status.busy": "2021-08-27T19:53:18.157155Z",
     "iopub.status.idle": "2021-08-27T19:53:18.516854Z",
     "shell.execute_reply": "2021-08-27T19:53:18.517348Z",
     "shell.execute_reply.started": "2021-08-27T19:48:17.279272Z"
    },
    "papermill": {
     "duration": 0.830958,
     "end_time": "2021-08-27T19:53:18.517518",
     "exception": false,
     "start_time": "2021-08-27T19:53:17.686560",
     "status": "completed"
    },
    "tags": []
   },
   "outputs": [
    {
     "name": "stdout",
     "output_type": "stream",
     "text": [
      "10/10 [==============================] - 0s 31ms/step - loss: 0.8483 - sparse_categorical_accuracy: 0.9071\n"
     ]
    },
    {
     "data": {
      "text/plain": [
       "[0.8482798933982849, 0.9070512652397156]"
      ]
     },
     "execution_count": 25,
     "metadata": {},
     "output_type": "execute_result"
    }
   ],
   "source": [
    "model.evaluate(X_test, y_test)"
   ]
  }
 ],
 "metadata": {
  "kernelspec": {
   "display_name": "Python 3",
   "language": "python",
   "name": "python3"
  },
  "language_info": {
   "codemirror_mode": {
    "name": "ipython",
    "version": 3
   },
   "file_extension": ".py",
   "mimetype": "text/x-python",
   "name": "python",
   "nbconvert_exporter": "python",
   "pygments_lexer": "ipython3",
   "version": "3.7.10"
  },
  "papermill": {
   "default_parameters": {},
   "duration": 225.997717,
   "end_time": "2021-08-27T19:53:20.731242",
   "environment_variables": {},
   "exception": null,
   "input_path": "__notebook__.ipynb",
   "output_path": "__notebook__.ipynb",
   "parameters": {},
   "start_time": "2021-08-27T19:49:34.733525",
   "version": "2.3.3"
  }
 },
 "nbformat": 4,
 "nbformat_minor": 5
}
